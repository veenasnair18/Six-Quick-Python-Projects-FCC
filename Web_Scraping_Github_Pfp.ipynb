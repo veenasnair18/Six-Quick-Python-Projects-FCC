{
  "nbformat": 4,
  "nbformat_minor": 0,
  "metadata": {
    "colab": {
      "name": "Web Scraping Github Pfp.ipynb",
      "provenance": [],
      "authorship_tag": "ABX9TyOeJcQQICDcjTfhErGSk6bh",
      "include_colab_link": true
    },
    "kernelspec": {
      "name": "python3",
      "display_name": "Python 3"
    },
    "language_info": {
      "name": "python"
    }
  },
  "cells": [
    {
      "cell_type": "markdown",
      "metadata": {
        "id": "view-in-github",
        "colab_type": "text"
      },
      "source": [
        "<a href=\"https://colab.research.google.com/github/veenasnair18/Six-Quick-Python-Projects-FCC/blob/main/Web_Scraping_Github_Pfp.ipynb\" target=\"_parent\"><img src=\"https://colab.research.google.com/assets/colab-badge.svg\" alt=\"Open In Colab\"/></a>"
      ]
    },
    {
      "cell_type": "code",
      "source": [
        "import requests\n",
        "from bs4 import BeautifulSoup as bs"
      ],
      "metadata": {
        "id": "w5BD-7LAoUNQ"
      },
      "execution_count": 7,
      "outputs": []
    },
    {
      "cell_type": "code",
      "source": [
        "github_un = input(\"Enter Username:\")\n",
        "link = \"https://github.com/\"+ github_un\n",
        "r = requests.get(link)\n",
        "s = bs(r.content,'html.parser')\n",
        "pfp = s.find('img',{'alt' : 'Avatar'})['src']\n",
        "print(pfp)"
      ],
      "metadata": {
        "colab": {
          "base_uri": "https://localhost:8080/"
        },
        "id": "S5xN320oolJq",
        "outputId": "9444147a-6193-4548-fcff-14a1eafe99f7"
      },
      "execution_count": 8,
      "outputs": [
        {
          "output_type": "stream",
          "name": "stdout",
          "text": [
            "Enter Username:veenasnair18\n",
            "https://avatars.githubusercontent.com/u/38048590?v=4\n"
          ]
        }
      ]
    }
  ]
}